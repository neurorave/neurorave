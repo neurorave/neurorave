{
 "cells": [
  {
   "cell_type": "code",
   "execution_count": 2,
   "id": "f5982c3c-70ac-4a28-8cf0-5c7d95ef0f39",
   "metadata": {},
   "outputs": [],
   "source": [
    "import torch,os\n"
   ]
  },
  {
   "cell_type": "code",
   "execution_count": 21,
   "id": "7de456e7-674a-49a8-ab7e-14bae1e38978",
   "metadata": {},
   "outputs": [
    {
     "name": "stdout",
     "output_type": "stream",
     "text": [
      "{'distance': tensor(4.9489, device='cuda:0'), 'correlation': {'centroid': 0.4709641451531269, 'rms': 0.5936506897845168, 'bandwidth': 0.4706369441874484, 'sharpness': 0.682542067893008, 'booming': 0.5356461082367189}, 'l1_loss': {'centroid': 0.4255241187328988, 'rms': 0.4277330212136532, 'bandwidth': 0.4022458931233021, 'sharpness': 0.3314779124995496, 'booming': 0.40200262881339865}}\n",
      "{'distance': 7.109892419044007, 'mel': 36.69401947995449, 'jnd': 0.394676628264975, 'correlation': {'centroid': 0, 'rms': 0, 'bandwidth': 0, 'sharpness': 0, 'booming': 0}, 'l1_loss': {'centroid': 0, 'rms': 0, 'bandwidth': 0, 'sharpness': 0, 'booming': 0}}\n"
     ]
    }
   ],
   "source": [
    "models_dir = \"/data/nils/raving-fader/src/ddsp/runs\"\n",
    "model_name = \"FDDSP\" \n",
    "res = torch.load(os.path.join(models_dir,model_name)+\"/results_analysis.pth\")\n",
    "print(res)\n",
    "res = torch.load(os.path.join(models_dir,model_name)+\"/results_analysis_distances.pth\")\n",
    "print(res)\n"
   ]
  },
  {
   "cell_type": "code",
   "execution_count": 19,
   "id": "ce3f639f-5382-4ee8-8975-0a7cd59a4005",
   "metadata": {},
   "outputs": [
    {
     "name": "stdout",
     "output_type": "stream",
     "text": [
      "{'distance': tensor(4.9419, device='cuda:0'), 'correlation': {'centroid': 0.5226210102121882, 'rms': 0.6221327800700007, 'bandwidth': 0.5448220904837263, 'sharpness': 0.6887562896342987, 'booming': 0.6311337776640629}, 'l1_loss': {'centroid': 0.39838649300818735, 'rms': 0.4627817596526857, 'bandwidth': 0.39210549155448343, 'sharpness': 0.33050925585817786, 'booming': 0.3470046076368778}}\n",
      "{'distance': 7.1453789142852155, 'mel': 36.654012274234844, 'jnd': 0.2838506023300455, 'correlation': {'centroid': 0, 'rms': 0, 'bandwidth': 0, 'sharpness': 0, 'booming': 0}, 'l1_loss': {'centroid': 0, 'rms': 0, 'bandwidth': 0, 'sharpness': 0, 'booming': 0}}\n"
     ]
    }
   ],
   "source": [
    "models_dir = \"/data/nils/raving-fader/src/ddsp/runs\"\n",
    "model_name = \"CDDSP\" \n",
    "res = torch.load(os.path.join(models_dir,model_name)+\"/results_analysis.pth\")\n",
    "print(res)\n",
    "res = torch.load(os.path.join(models_dir,model_name)+\"/results_analysis_distances.pth\")\n",
    "print(res)\n"
   ]
  },
  {
   "cell_type": "code",
   "execution_count": 18,
   "id": "6559a961-e9e8-413e-b995-040a962ff289",
   "metadata": {},
   "outputs": [
    {
     "name": "stdout",
     "output_type": "stream",
     "text": [
      "{'distance': 20.098913908004736, 'correlation': {'centroid': 0.7960577917820465, 'rms': 0.7384836153207325, 'bandwidth': 0.6286636114423905, 'sharpness': 0.6781895640074393, 'booming': 0.7273702872453509}, 'l1_loss': {'centroid': 0.25839379792653694, 'rms': 0.4764474317035324, 'bandwidth': 0.33219980357459156, 'sharpness': 0.3370899038633743, 'booming': 0.2994967636766074}}\n"
     ]
    },
    {
     "data": {
      "text/plain": [
       "{'distance': 4.938390747193367,\n",
       " 'mel': 14.585224633575772,\n",
       " 'jnd': 0.24053533503445257,\n",
       " 'correlation': {'centroid': 0.7790142605381625,\n",
       "  'rms': 0.7610449233362754,\n",
       "  'bandwidth': 0.6635972328724401,\n",
       "  'sharpness': 0.7254777252674105,\n",
       "  'booming': 0.7726234960299668},\n",
       " 'l1_loss': {'centroid': 0.270182085453823,\n",
       "  'rms': 0.4677286136855361,\n",
       "  'bandwidth': 0.3104579092994814,\n",
       "  'sharpness': 0.31701844393886547,\n",
       "  'booming': 0.2745033322322753}}"
      ]
     },
     "execution_count": 18,
     "metadata": {},
     "output_type": "execute_result"
    }
   ],
   "source": [
    "models_dir = \"/data/nils/raving-fader/models/\"\n",
    "model_name = \"FRAVE_NSS\" \n",
    "res = torch.load(os.path.join(models_dir,model_name)+\"/results_analysis.pth\")\n",
    "print(res)\n",
    "res = torch.load(os.path.join(models_dir,model_name)+\"/results_analysis_distances.pth\")\n",
    "res = torch.load(os.path.join(models_dir,model_name)+\"/results_analysis_distances_1M.pth\")\n",
    "\n",
    "\n",
    "res"
   ]
  },
  {
   "cell_type": "code",
   "execution_count": 17,
   "id": "3d1cd22e",
   "metadata": {},
   "outputs": [
    {
     "name": "stdout",
     "output_type": "stream",
     "text": [
      "{'distance': 18.683856473249538, 'correlation': {'centroid': 0.7465794833368593, 'rms': 0.7293739788807357, 'bandwidth': 0.6452712457778779, 'sharpness': 0.6221680676741574, 'booming': 0.7379048329976073}, 'l1_loss': {'centroid': 0.299442459159105, 'rms': 0.4883407435898265, 'bandwidth': 0.329939470171288, 'sharpness': 0.3733965448521034, 'booming': 0.28839845210735177}}\n"
     ]
    },
    {
     "data": {
      "text/plain": [
       "{'distance': 4.887169637987691,\n",
       " 'mel': 13.98217723702872,\n",
       " 'jnd': 0.23533531094110136,\n",
       " 'correlation': {'centroid': 0.8146746027213266,\n",
       "  'rms': 0.7723138563094601,\n",
       "  'bandwidth': 0.6378050795806353,\n",
       "  'sharpness': 0.7304876036541432,\n",
       "  'booming': 0.7914442349505679},\n",
       " 'l1_loss': {'centroid': 0.2454752826722719,\n",
       "  'rms': 0.46408382226382533,\n",
       "  'bandwidth': 0.3118537392026634,\n",
       "  'sharpness': 0.31302438251754294,\n",
       "  'booming': 0.2497801344080638}}"
      ]
     },
     "execution_count": 17,
     "metadata": {},
     "output_type": "execute_result"
    }
   ],
   "source": [
    "models_dir = \"/data/nils/raving-fader/models/\"\n",
    "model_name = \"CRAVE_NSS\" \n",
    "res = torch.load(os.path.join(models_dir,model_name)+\"/results_analysis.pth\")\n",
    "print(res)\n",
    "res = torch.load(os.path.join(models_dir,model_name)+\"/results_analysis_distances.pth\")\n",
    "res = torch.load(os.path.join(models_dir,model_name)+\"/results_analysis_distances_1M.pth\")\n",
    "\n",
    "\n",
    "res"
   ]
  },
  {
   "cell_type": "code",
   "execution_count": 9,
   "id": "862567d2",
   "metadata": {},
   "outputs": [
    {
     "data": {
      "text/plain": [
       "0.34500000000000003"
      ]
     },
     "execution_count": 9,
     "metadata": {},
     "output_type": "execute_result"
    }
   ],
   "source": [
    "(0.74+0.72+0.64+0.62+0.73)/5/2"
   ]
  },
  {
   "cell_type": "code",
   "execution_count": null,
   "id": "31fa39ad",
   "metadata": {},
   "outputs": [],
   "source": []
  }
 ],
 "metadata": {
  "kernelspec": {
   "display_name": "base",
   "language": "python",
   "name": "python3"
  },
  "language_info": {
   "codemirror_mode": {
    "name": "ipython",
    "version": 3
   },
   "file_extension": ".py",
   "mimetype": "text/x-python",
   "name": "python",
   "nbconvert_exporter": "python",
   "pygments_lexer": "ipython3",
   "version": "3.9.7"
  },
  "vscode": {
   "interpreter": {
    "hash": "730b0e95e463189060a04c86c9588836ab80e3755b08b287daec75fa4136545f"
   }
  }
 },
 "nbformat": 4,
 "nbformat_minor": 5
}
